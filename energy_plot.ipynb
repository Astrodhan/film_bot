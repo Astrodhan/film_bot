{
 "cells": [
  {
   "cell_type": "code",
   "execution_count": null,
   "metadata": {},
   "outputs": [],
   "source": [
    "import librosa\n",
    "import librosa.display\n",
    "import matplotlib.pyplot as plt\n",
    "\n",
    "# Path to your audio file\n",
    "audio_file = 'speech_test_0.mp3'\n",
    "\n",
    "# Load the audio file\n",
    "y, sr = librosa.load(audio_file)\n",
    "\n",
    "# Calculate the energy of the audio\n",
    "energy = librosa.feature.rms(y=y)[0]\n",
    "\n",
    "# Create a time array\n",
    "times = librosa.times_like(energy, sr=sr)\n",
    "\n",
    "# Plot the energy with respect to time\n",
    "plt.figure(figsize=(12, 6))\n",
    "librosa.display.waveshow(y, sr=sr, alpha=0.5)\n",
    "plt.plot(times, energy, color='r')\n",
    "plt.xlabel('Time (s)')\n",
    "plt.ylabel('Energy')\n",
    "plt.title('Energy of Audio File')\n",
    "plt.show()\n"
   ]
  }
 ],
 "metadata": {
  "kernelspec": {
   "display_name": "filmediting",
   "language": "python",
   "name": "python3"
  },
  "language_info": {
   "name": "python",
   "version": "3.8.19"
  }
 },
 "nbformat": 4,
 "nbformat_minor": 2
}
